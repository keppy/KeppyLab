{
  "cells": [
    {
      "cell_type": "markdown",
      "metadata": {
        "id": "view-in-github",
        "colab_type": "text"
      },
      "source": [
        "<a href=\"https://colab.research.google.com/github/keppy/KeppyLab/blob/master/Copy_of_Byte_Pair_Encoding_tokenization.ipynb\" target=\"_parent\"><img src=\"https://colab.research.google.com/assets/colab-badge.svg\" alt=\"Open In Colab\"/></a>"
      ]
    },
    {
      "cell_type": "markdown",
      "metadata": {
        "id": "JyV2DHjLcOQG"
      },
      "source": [
        "# Byte-Pair Encoding tokenization"
      ]
    },
    {
      "cell_type": "markdown",
      "metadata": {
        "id": "l4MiZX5UcOQJ"
      },
      "source": [
        "Install the Transformers, Datasets, and Evaluate libraries to run this notebook."
      ]
    },
    {
      "cell_type": "code",
      "execution_count": null,
      "metadata": {
        "id": "DO8VzPuOcOQK",
        "outputId": "9e38c76e-b158-4eb3-d76a-63f71262b19a",
        "colab": {
          "base_uri": "https://localhost:8080/"
        }
      },
      "outputs": [
        {
          "output_type": "stream",
          "name": "stdout",
          "text": [
            "Collecting datasets\n",
            "  Downloading datasets-2.16.1-py3-none-any.whl (507 kB)\n",
            "\u001b[2K     \u001b[90m━━━━━━━━━━━━━━━━━━━━━━━━━━━━━━━━━━━━━━━━\u001b[0m \u001b[32m507.1/507.1 kB\u001b[0m \u001b[31m7.4 MB/s\u001b[0m eta \u001b[36m0:00:00\u001b[0m\n",
            "\u001b[?25hCollecting evaluate\n",
            "  Downloading evaluate-0.4.1-py3-none-any.whl (84 kB)\n",
            "\u001b[2K     \u001b[90m━━━━━━━━━━━━━━━━━━━━━━━━━━━━━━━━━━━━━━━━\u001b[0m \u001b[32m84.1/84.1 kB\u001b[0m \u001b[31m11.2 MB/s\u001b[0m eta \u001b[36m0:00:00\u001b[0m\n",
            "\u001b[?25hRequirement already satisfied: transformers[sentencepiece] in /usr/local/lib/python3.10/dist-packages (4.35.2)\n",
            "Requirement already satisfied: filelock in /usr/local/lib/python3.10/dist-packages (from datasets) (3.13.1)\n",
            "Requirement already satisfied: numpy>=1.17 in /usr/local/lib/python3.10/dist-packages (from datasets) (1.23.5)\n",
            "Requirement already satisfied: pyarrow>=8.0.0 in /usr/local/lib/python3.10/dist-packages (from datasets) (10.0.1)\n",
            "Requirement already satisfied: pyarrow-hotfix in /usr/local/lib/python3.10/dist-packages (from datasets) (0.6)\n",
            "Collecting dill<0.3.8,>=0.3.0 (from datasets)\n",
            "  Downloading dill-0.3.7-py3-none-any.whl (115 kB)\n",
            "\u001b[2K     \u001b[90m━━━━━━━━━━━━━━━━━━━━━━━━━━━━━━━━━━━━━━━━\u001b[0m \u001b[32m115.3/115.3 kB\u001b[0m \u001b[31m11.9 MB/s\u001b[0m eta \u001b[36m0:00:00\u001b[0m\n",
            "\u001b[?25hRequirement already satisfied: pandas in /usr/local/lib/python3.10/dist-packages (from datasets) (1.5.3)\n",
            "Requirement already satisfied: requests>=2.19.0 in /usr/local/lib/python3.10/dist-packages (from datasets) (2.31.0)\n",
            "Requirement already satisfied: tqdm>=4.62.1 in /usr/local/lib/python3.10/dist-packages (from datasets) (4.66.1)\n",
            "Requirement already satisfied: xxhash in /usr/local/lib/python3.10/dist-packages (from datasets) (3.4.1)\n",
            "Collecting multiprocess (from datasets)\n",
            "  Downloading multiprocess-0.70.15-py310-none-any.whl (134 kB)\n",
            "\u001b[2K     \u001b[90m━━━━━━━━━━━━━━━━━━━━━━━━━━━━━━━━━━━━━━━━\u001b[0m \u001b[32m134.8/134.8 kB\u001b[0m \u001b[31m14.4 MB/s\u001b[0m eta \u001b[36m0:00:00\u001b[0m\n",
            "\u001b[?25hRequirement already satisfied: fsspec[http]<=2023.10.0,>=2023.1.0 in /usr/local/lib/python3.10/dist-packages (from datasets) (2023.6.0)\n",
            "Requirement already satisfied: aiohttp in /usr/local/lib/python3.10/dist-packages (from datasets) (3.9.1)\n",
            "Requirement already satisfied: huggingface-hub>=0.19.4 in /usr/local/lib/python3.10/dist-packages (from datasets) (0.20.2)\n",
            "Requirement already satisfied: packaging in /usr/local/lib/python3.10/dist-packages (from datasets) (23.2)\n",
            "Requirement already satisfied: pyyaml>=5.1 in /usr/local/lib/python3.10/dist-packages (from datasets) (6.0.1)\n",
            "Collecting responses<0.19 (from evaluate)\n",
            "  Downloading responses-0.18.0-py3-none-any.whl (38 kB)\n",
            "Requirement already satisfied: regex!=2019.12.17 in /usr/local/lib/python3.10/dist-packages (from transformers[sentencepiece]) (2023.6.3)\n",
            "Requirement already satisfied: tokenizers<0.19,>=0.14 in /usr/local/lib/python3.10/dist-packages (from transformers[sentencepiece]) (0.15.0)\n",
            "Requirement already satisfied: safetensors>=0.3.1 in /usr/local/lib/python3.10/dist-packages (from transformers[sentencepiece]) (0.4.1)\n",
            "Collecting sentencepiece!=0.1.92,>=0.1.91 (from transformers[sentencepiece])\n",
            "  Downloading sentencepiece-0.1.99-cp310-cp310-manylinux_2_17_x86_64.manylinux2014_x86_64.whl (1.3 MB)\n",
            "\u001b[2K     \u001b[90m━━━━━━━━━━━━━━━━━━━━━━━━━━━━━━━━━━━━━━━━\u001b[0m \u001b[32m1.3/1.3 MB\u001b[0m \u001b[31m66.4 MB/s\u001b[0m eta \u001b[36m0:00:00\u001b[0m\n",
            "\u001b[?25hRequirement already satisfied: protobuf in /usr/local/lib/python3.10/dist-packages (from transformers[sentencepiece]) (3.20.3)\n",
            "Requirement already satisfied: attrs>=17.3.0 in /usr/local/lib/python3.10/dist-packages (from aiohttp->datasets) (23.2.0)\n",
            "Requirement already satisfied: multidict<7.0,>=4.5 in /usr/local/lib/python3.10/dist-packages (from aiohttp->datasets) (6.0.4)\n",
            "Requirement already satisfied: yarl<2.0,>=1.0 in /usr/local/lib/python3.10/dist-packages (from aiohttp->datasets) (1.9.4)\n",
            "Requirement already satisfied: frozenlist>=1.1.1 in /usr/local/lib/python3.10/dist-packages (from aiohttp->datasets) (1.4.1)\n",
            "Requirement already satisfied: aiosignal>=1.1.2 in /usr/local/lib/python3.10/dist-packages (from aiohttp->datasets) (1.3.1)\n",
            "Requirement already satisfied: async-timeout<5.0,>=4.0 in /usr/local/lib/python3.10/dist-packages (from aiohttp->datasets) (4.0.3)\n",
            "Requirement already satisfied: typing-extensions>=3.7.4.3 in /usr/local/lib/python3.10/dist-packages (from huggingface-hub>=0.19.4->datasets) (4.5.0)\n",
            "Requirement already satisfied: charset-normalizer<4,>=2 in /usr/local/lib/python3.10/dist-packages (from requests>=2.19.0->datasets) (3.3.2)\n",
            "Requirement already satisfied: idna<4,>=2.5 in /usr/local/lib/python3.10/dist-packages (from requests>=2.19.0->datasets) (3.6)\n",
            "Requirement already satisfied: urllib3<3,>=1.21.1 in /usr/local/lib/python3.10/dist-packages (from requests>=2.19.0->datasets) (2.0.7)\n",
            "Requirement already satisfied: certifi>=2017.4.17 in /usr/local/lib/python3.10/dist-packages (from requests>=2.19.0->datasets) (2023.11.17)\n",
            "Requirement already satisfied: python-dateutil>=2.8.1 in /usr/local/lib/python3.10/dist-packages (from pandas->datasets) (2.8.2)\n",
            "Requirement already satisfied: pytz>=2020.1 in /usr/local/lib/python3.10/dist-packages (from pandas->datasets) (2023.3.post1)\n",
            "Requirement already satisfied: six>=1.5 in /usr/local/lib/python3.10/dist-packages (from python-dateutil>=2.8.1->pandas->datasets) (1.16.0)\n",
            "Installing collected packages: sentencepiece, dill, responses, multiprocess, datasets, evaluate\n",
            "Successfully installed datasets-2.16.1 dill-0.3.7 evaluate-0.4.1 multiprocess-0.70.15 responses-0.18.0 sentencepiece-0.1.99\n"
          ]
        }
      ],
      "source": [
        "!pip install datasets evaluate transformers[sentencepiece]"
      ]
    },
    {
      "cell_type": "code",
      "execution_count": null,
      "metadata": {
        "id": "1Rk20WCXcOQL",
        "outputId": "2ebefc54-fea7-4d19-af2e-e550fa505775",
        "colab": {
          "base_uri": "https://localhost:8080/"
        }
      },
      "outputs": [
        {
          "output_type": "stream",
          "name": "stdout",
          "text": [
            "['μῆνιν ἄειδε θεὰ Πηληϊάδεω Ἀχιλῆος', 'οὐλομένην, ἣ μυρί᾽ Ἀχαιοῖς ἄλγε᾽ ἔθηκε,', 'πολλὰς δ᾽ ἰφθίμους ψυχὰς Ἄϊδι προΐαψεν', 'ἡρώων, αὐτοὺς δὲ ἑλώρια τεῦχε κύνεσσιν', 'βάλλ᾽: αἰεὶ δὲ πυραὶ νεκύων καίοντο θαμειαί.']\n"
          ]
        }
      ],
      "source": [
        "corpus = [\n",
        "    \"μῆνιν ἄειδε θεὰ Πηληϊάδεω Ἀχιλῆος\",\n",
        "    \"οὐλομένην, ἣ μυρί᾽ Ἀχαιοῖς ἄλγε᾽ ἔθηκε,\",\n",
        "    \"πολλὰς δ᾽ ἰφθίμους ψυχὰς Ἄϊδι προΐαψεν\",\n",
        "    \"ἡρώων, αὐτοὺς δὲ ἑλώρια τεῦχε κύνεσσιν\",\n",
        "    \"βάλλ᾽: αἰεὶ δὲ πυραὶ νεκύων καίοντο θαμειαί.\",\n",
        "]\n",
        "print(corpus)"
      ]
    },
    {
      "cell_type": "code",
      "execution_count": null,
      "metadata": {
        "id": "LaZ4gTJkcOQL"
      },
      "outputs": [],
      "source": [
        "# This won't work, it doesn't keep the unicode Greek characters\n",
        "# from transformers import AutoTokenizer\n",
        "# tokenizer = AutoTokenizer.from_pretrained(\"gpt2\")"
      ]
    },
    {
      "cell_type": "code",
      "source": [
        "a = [('a', (0, 5))]\n",
        "print(a)\n",
        "import re\n",
        "re.findall(r\"\\w+|[^\\w\\s]\", corpus[0])\n"
      ],
      "metadata": {
        "id": "cZl0saRilBDH",
        "outputId": "894736fe-2bf0-4b3a-ec82-497ec56f8ece",
        "colab": {
          "base_uri": "https://localhost:8080/"
        }
      },
      "execution_count": null,
      "outputs": [
        {
          "output_type": "stream",
          "name": "stdout",
          "text": [
            "[('a', (0, 5))]\n"
          ]
        },
        {
          "output_type": "execute_result",
          "data": {
            "text/plain": [
              "['μῆνιν', 'ἄειδε', 'θεὰ', 'Πηληϊάδεω', 'Ἀχιλῆος']"
            ]
          },
          "metadata": {},
          "execution_count": 3
        }
      ]
    },
    {
      "cell_type": "markdown",
      "source": [],
      "metadata": {
        "id": "Dy2GAuxOSS-m"
      }
    },
    {
      "cell_type": "markdown",
      "source": [
        "For pre-tokens that are words $t$ we observe that the number of spaces in a batch, which we call $n$, can be applied over the inverse of the sum:\n",
        "\n",
        "\n",
        "\\begin{equation}\n",
        "g = \\sum_{i=0}^{len(n)} -t_i n_i\n",
        "\\end{equation}\n",
        "\n",
        "This is the Greek Trick\n",
        "\n",
        "In this way we can blow away the spaces and then bring them back to life by observing that the first word in a text batch is the least likely to have a space prepended, while the last word is most likely to have a space prepended.\n",
        "\n",
        "We prove that this probability holds because if we look at The Illiad no lines start with a space, and every word at the end of a line and its preceeding words have white space prepended. On additional texts I would suggest testing a scheme that pre-processes the text into blocks that are least likey to have spaces prepended to the head item. Uppercase and other gramar signal inputs could be used to make the pre-processing step more robust."
      ],
      "metadata": {
        "id": "vTTNQKVqxCLH"
      }
    },
    {
      "cell_type": "code",
      "execution_count": null,
      "metadata": {
        "id": "8HKVAv4dcOQM",
        "outputId": "116a2a61-2a6f-456e-af88-2b8f1f2c7e36",
        "colab": {
          "base_uri": "https://localhost:8080/"
        }
      },
      "outputs": [
        {
          "output_type": "stream",
          "name": "stdout",
          "text": [
            "['μῆνιν', 'Ġἄειδε', 'Ġθεὰ', 'ĠΠηληϊάδεω', 'ĠἈχιλῆος']\n",
            "['οὐλομένην', ',', 'Ġἣ', 'Ġμυρί', '᾽', 'ĠἈχαιοῖς', 'Ġἄλγε', '᾽', 'Ġἔθηκε', ',']\n",
            "['πολλὰς', 'Ġδ', '᾽', 'Ġἰφθίμους', 'Ġψυχὰς', 'ĠἌϊδι', 'Ġπροΐαψεν']\n",
            "['ἡρώων', ',', 'Ġαὐτοὺς', 'Ġδὲ', 'Ġἑλώρια', 'Ġτεῦχε', 'Ġκύνεσσιν']\n",
            "['βάλλ', '᾽', ':', 'Ġαἰεὶ', 'Ġδὲ', 'Ġπυραὶ', 'Ġνεκύων', 'Ġκαίοντο', 'Ġθαμειαί', 'Ġ.']\n",
            "6\n",
            "defaultdict(<class 'int'>, {'μῆνιν': 1, 'Ġἄειδε': 1, 'Ġθεὰ': 1, 'ĠΠηληϊάδεω': 1, 'ĠἈχιλῆος': 1, 'οὐλομένην': 1, ',': 3, 'Ġἣ': 1, 'Ġμυρί': 1, '᾽': 4, 'ĠἈχαιοῖς': 1, 'Ġἄλγε': 1, 'Ġἔθηκε': 1, 'πολλὰς': 1, 'Ġδ': 1, 'Ġἰφθίμους': 1, 'Ġψυχὰς': 1, 'ĠἌϊδι': 1, 'Ġπροΐαψεν': 1, 'ἡρώων': 1, 'Ġαὐτοὺς': 1, 'Ġδὲ': 2, 'Ġἑλώρια': 1, 'Ġτεῦχε': 1, 'Ġκύνεσσιν': 1, 'βάλλ': 1, ':': 1, 'Ġαἰεὶ': 1, 'Ġπυραὶ': 1, 'Ġνεκύων': 1, 'Ġκαίοντο': 1, 'Ġθαμειαί': 1, 'Ġ.': 1})\n"
          ]
        }
      ],
      "source": [
        "from pickle import FALSE\n",
        "from collections import defaultdict\n",
        "import re\n",
        "import string\n",
        "\n",
        "greek_puctuation = [':', '·', '…', '\\'', '«', '»', '-', ';', '!', ',', '(', ')', '᾽']\n",
        "word_freqs = defaultdict(int)\n",
        "words_with_offsets = []\n",
        "last = 0\n",
        "first = 0\n",
        "n = 0\n",
        "g = []\n",
        "has_space = FALSE\n",
        "space_delim = 'Ġ'\n",
        "\n",
        "for batch in corpus:\n",
        "    t = re.findall(r\"\\w+|[^\\w\\s]\", batch)\n",
        "    n = batch.count(' ')\n",
        "\n",
        "    for idx, ti in enumerate(reversed(t)):\n",
        "        if not ti in greek_puctuation and idx < len(t)-1:\n",
        "            n-1\n",
        "            g.append(space_delim+ti)\n",
        "        else:\n",
        "            g.append(ti)\n",
        "    g.reverse()\n",
        "    print(g)\n",
        "\n",
        "    for idx, word in enumerate(g):\n",
        "        if last == 0:\n",
        "          last = len(word)\n",
        "        else:\n",
        "          last = len(word)+last\n",
        "        words_with_offsets.append((word, (first, last)))\n",
        "        first = last\n",
        "\n",
        "    new_words = [word for word, offset in words_with_offsets]\n",
        "    for word in new_words:\n",
        "        word_freqs[word] += 1\n",
        "\n",
        "    words_with_offsets = []\n",
        "    g  = []\n",
        "\n",
        "print(n)\n",
        "print(word_freqs)"
      ]
    },
    {
      "cell_type": "code",
      "execution_count": null,
      "metadata": {
        "id": "ZTWwwRgzcOQM",
        "outputId": "75037423-7812-44b9-ae4d-193b4a4b7850",
        "colab": {
          "base_uri": "https://localhost:8080/"
        }
      },
      "outputs": [
        {
          "output_type": "stream",
          "name": "stdout",
          "text": [
            "[',', '.', ':', 'ΐ', 'Π', 'ά', 'έ', 'ί', 'α', 'β', 'γ', 'δ', 'ε', 'η', 'θ', 'ι', 'κ', 'λ', 'μ', 'ν', 'ο', 'π', 'ρ', 'ς', 'σ', 'τ', 'υ', 'φ', 'χ', 'ψ', 'ω', 'ϊ', 'ύ', 'ώ', 'ἄ', 'Ἀ', 'Ἄ', 'ἑ', 'ἔ', 'ἡ', 'ἣ', 'ἰ', 'ὐ', 'ὰ', 'ὲ', 'ὶ', 'ὺ', '᾽', 'ῆ', 'ῖ', 'ῦ']\n"
          ]
        }
      ],
      "source": [
        "alphabet = []\n",
        "\n",
        "for word in word_freqs.keys():\n",
        "    for letter in word:\n",
        "        if letter not in alphabet:\n",
        "            alphabet.append(letter)\n",
        "alphabet.sort()\n",
        "\n",
        "print(alphabet)"
      ]
    },
    {
      "cell_type": "code",
      "execution_count": null,
      "metadata": {
        "id": "Z63gHfQYcOQN"
      },
      "outputs": [],
      "source": [
        "vocab = [\"<|endoftext|>\"] + alphabet.copy()"
      ]
    },
    {
      "cell_type": "code",
      "execution_count": null,
      "metadata": {
        "id": "_3j4c4GdcOQN"
      },
      "outputs": [],
      "source": [
        "splits = {word: [c for c in word] for word in word_freqs.keys()}"
      ]
    },
    {
      "cell_type": "code",
      "execution_count": null,
      "metadata": {
        "id": "aAYJHIsicOQN"
      },
      "outputs": [],
      "source": [
        "def compute_pair_freqs(splits):\n",
        "    pair_freqs = defaultdict(int)\n",
        "    for word, freq in word_freqs.items():\n",
        "        split = splits[word]\n",
        "        if len(split) == 1:\n",
        "            continue\n",
        "        for i in range(len(split) - 1):\n",
        "            pair = (split[i], split[i + 1])\n",
        "            pair_freqs[pair] += freq\n",
        "    return pair_freqs"
      ]
    },
    {
      "cell_type": "code",
      "execution_count": null,
      "metadata": {
        "id": "Ecc3qdeXcOQN",
        "outputId": "fcc5a9ea-c658-476a-88e6-0c5ea24c2da2"
      },
      "outputs": [
        {
          "data": {
            "text/plain": [
              "('T', 'h'): 3\n",
              "('h', 'i'): 3\n",
              "('i', 's'): 5\n",
              "('Ġ', 'i'): 2\n",
              "('Ġ', 't'): 7\n",
              "('t', 'h'): 3"
            ]
          },
          "execution_count": null,
          "metadata": {},
          "output_type": "execute_result"
        }
      ],
      "source": [
        "pair_freqs = compute_pair_freqs(splits)\n",
        "\n",
        "for i, key in enumerate(pair_freqs.keys()):\n",
        "    print(f\"{key}: {pair_freqs[key]}\")\n",
        "    if i >= 5:\n",
        "        break"
      ]
    },
    {
      "cell_type": "code",
      "execution_count": null,
      "metadata": {
        "id": "NC1By4lMcOQO",
        "outputId": "16ef46a0-8c83-4ea5-83f5-b896f4137448"
      },
      "outputs": [
        {
          "data": {
            "text/plain": [
              "('Ġ', 't') 7"
            ]
          },
          "execution_count": null,
          "metadata": {},
          "output_type": "execute_result"
        }
      ],
      "source": [
        "best_pair = \"\"\n",
        "max_freq = None\n",
        "\n",
        "for pair, freq in pair_freqs.items():\n",
        "    if max_freq is None or max_freq < freq:\n",
        "        best_pair = pair\n",
        "        max_freq = freq\n",
        "\n",
        "print(best_pair, max_freq)"
      ]
    },
    {
      "cell_type": "code",
      "execution_count": null,
      "metadata": {
        "id": "FXkFBvUacOQO"
      },
      "outputs": [],
      "source": [
        "merges = {(\"Ġ\", \"t\"): \"Ġt\"}\n",
        "vocab.append(\"Ġt\")"
      ]
    },
    {
      "cell_type": "code",
      "execution_count": null,
      "metadata": {
        "id": "3omK9j8VcOQP"
      },
      "outputs": [],
      "source": [
        "def merge_pair(a, b, splits):\n",
        "    for word in word_freqs:\n",
        "        split = splits[word]\n",
        "        if len(split) == 1:\n",
        "            continue\n",
        "\n",
        "        i = 0\n",
        "        while i < len(split) - 1:\n",
        "            if split[i] == a and split[i + 1] == b:\n",
        "                split = split[:i] + [a + b] + split[i + 2 :]\n",
        "            else:\n",
        "                i += 1\n",
        "        splits[word] = split\n",
        "    return splits"
      ]
    },
    {
      "cell_type": "code",
      "execution_count": null,
      "metadata": {
        "id": "Y-8owbqxcOQP",
        "outputId": "5c6ecbcb-d596-44e2-ad5c-11a806d5b81a"
      },
      "outputs": [
        {
          "data": {
            "text/plain": [
              "['Ġt', 'r', 'a', 'i', 'n', 'e', 'd']"
            ]
          },
          "execution_count": null,
          "metadata": {},
          "output_type": "execute_result"
        }
      ],
      "source": [
        "splits = merge_pair(\"Ġ\", \"t\", splits)\n",
        "print(splits[\"Ġtrained\"])"
      ]
    },
    {
      "cell_type": "code",
      "execution_count": null,
      "metadata": {
        "id": "Ci08zWSUcOQP"
      },
      "outputs": [],
      "source": [
        "vocab_size = 50\n",
        "\n",
        "while len(vocab) < vocab_size:\n",
        "    pair_freqs = compute_pair_freqs(splits)\n",
        "    best_pair = \"\"\n",
        "    max_freq = None\n",
        "    for pair, freq in pair_freqs.items():\n",
        "        if max_freq is None or max_freq < freq:\n",
        "            best_pair = pair\n",
        "            max_freq = freq\n",
        "    splits = merge_pair(*best_pair, splits)\n",
        "    merges[best_pair] = best_pair[0] + best_pair[1]\n",
        "    vocab.append(best_pair[0] + best_pair[1])"
      ]
    },
    {
      "cell_type": "code",
      "execution_count": null,
      "metadata": {
        "id": "UhggLQNUcOQP",
        "outputId": "ef86ebe8-6126-4019-eaff-a6b8069524f7"
      },
      "outputs": [
        {
          "data": {
            "text/plain": [
              "{('Ġ', 't'): 'Ġt', ('i', 's'): 'is', ('e', 'r'): 'er', ('Ġ', 'a'): 'Ġa', ('Ġt', 'o'): 'Ġto', ('e', 'n'): 'en',\n",
              " ('T', 'h'): 'Th', ('Th', 'is'): 'This', ('o', 'u'): 'ou', ('s', 'e'): 'se', ('Ġto', 'k'): 'Ġtok',\n",
              " ('Ġtok', 'en'): 'Ġtoken', ('n', 'd'): 'nd', ('Ġ', 'is'): 'Ġis', ('Ġt', 'h'): 'Ġth', ('Ġth', 'e'): 'Ġthe',\n",
              " ('i', 'n'): 'in', ('Ġa', 'b'): 'Ġab', ('Ġtoken', 'i'): 'Ġtokeni'}"
            ]
          },
          "execution_count": null,
          "metadata": {},
          "output_type": "execute_result"
        }
      ],
      "source": [
        "print(merges)"
      ]
    },
    {
      "cell_type": "code",
      "execution_count": null,
      "metadata": {
        "id": "E6WkzCSUcOQQ",
        "outputId": "c8582bc0-863d-4e3b-a5bb-d88c324af988"
      },
      "outputs": [
        {
          "data": {
            "text/plain": [
              "['<|endoftext|>', ',', '.', 'C', 'F', 'H', 'T', 'a', 'b', 'c', 'd', 'e', 'f', 'g', 'h', 'i', 'k', 'l', 'm', 'n', 'o',\n",
              " 'p', 'r', 's', 't', 'u', 'v', 'w', 'y', 'z', 'Ġ', 'Ġt', 'is', 'er', 'Ġa', 'Ġto', 'en', 'Th', 'This', 'ou', 'se',\n",
              " 'Ġtok', 'Ġtoken', 'nd', 'Ġis', 'Ġth', 'Ġthe', 'in', 'Ġab', 'Ġtokeni']"
            ]
          },
          "execution_count": null,
          "metadata": {},
          "output_type": "execute_result"
        }
      ],
      "source": [
        "print(vocab)"
      ]
    },
    {
      "cell_type": "code",
      "execution_count": null,
      "metadata": {
        "id": "IMCtcjyZcOQQ"
      },
      "outputs": [],
      "source": [
        "def tokenize(text):\n",
        "    pre_tokenize_result = tokenizer._tokenizer.pre_tokenizer.pre_tokenize_str(text)\n",
        "    pre_tokenized_text = [word for word, offset in pre_tokenize_result]\n",
        "    splits = [[l for l in word] for word in pre_tokenized_text]\n",
        "    for pair, merge in merges.items():\n",
        "        for idx, split in enumerate(splits):\n",
        "            i = 0\n",
        "            while i < len(split) - 1:\n",
        "                if split[i] == pair[0] and split[i + 1] == pair[1]:\n",
        "                    split = split[:i] + [merge] + split[i + 2 :]\n",
        "                else:\n",
        "                    i += 1\n",
        "            splits[idx] = split\n",
        "\n",
        "    return sum(splits, [])"
      ]
    },
    {
      "cell_type": "code",
      "execution_count": null,
      "metadata": {
        "id": "gCpCG_0BcOQQ",
        "outputId": "2145bf84-a7b4-4474-887b-77d214d11398"
      },
      "outputs": [
        {
          "data": {
            "text/plain": [
              "['This', 'Ġis', 'Ġ', 'n', 'o', 't', 'Ġa', 'Ġtoken', '.']"
            ]
          },
          "execution_count": null,
          "metadata": {},
          "output_type": "execute_result"
        }
      ],
      "source": [
        "tokenize(\"This is not a token.\")"
      ]
    }
  ],
  "metadata": {
    "colab": {
      "provenance": [],
      "include_colab_link": true
    },
    "language_info": {
      "name": "python"
    },
    "kernelspec": {
      "name": "python3",
      "display_name": "Python 3"
    }
  },
  "nbformat": 4,
  "nbformat_minor": 0
}